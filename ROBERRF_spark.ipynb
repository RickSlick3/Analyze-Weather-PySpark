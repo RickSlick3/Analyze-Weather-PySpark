{
 "cells": [
  {
   "cell_type": "code",
   "execution_count": 88,
   "metadata": {},
   "outputs": [],
   "source": [
    "# imports and global vars\n",
    "import csv\n",
    "import os\n",
    "import statistics\n",
    "import pandas as pd\n",
    "\n",
    "CINCINNATI = '72429793812'\n",
    "FLORIDA = '99495199999'\n",
    "MISSING = [99.99, 999.9, 9999.9]"
   ]
  },
  {
   "cell_type": "code",
   "execution_count": null,
   "metadata": {},
   "outputs": [],
   "source": [
    "# Run to remove missing or invalid readings from the dataset in your analysis\n",
    "for year in range(2015, 2025):\n",
    "    for dataset in os.listdir(str(year)):\n",
    "      with open(str(year) + '/' + dataset, \"r\") as read_file:\n",
    "        rows = list(csv.reader(read_file))\n",
    "      for r in range(1, len(rows)):\n",
    "        rows[r] = [\n",
    "          \"MISSING\" if data in MISSING else data\n",
    "          for data in rows[r]\n",
    "        ]\n",
    "      with open(str(year) + '/' + dataset, \"w\", newline=\"\") as write_file:\n",
    "        writer = csv.writer(write_file)\n",
    "        writer.writerows(rows)"
   ]
  },
  {
   "cell_type": "code",
   "execution_count": 75,
   "metadata": {},
   "outputs": [
    {
     "name": "stdout",
     "output_type": "stream",
     "text": [
      "2015/Cincinnati >>> 365 rows\n",
      "2015/Florida    >>> 355 rows\n",
      "2016/Cincinnati >>> 366 rows\n",
      "2017/Cincinnati >>> 365 rows\n",
      "2017/Florida    >>> 283 rows\n",
      "2018/Cincinnati >>> 365 rows\n",
      "2018/Florida    >>> 363 rows\n",
      "2019/Cincinnati >>> 365 rows\n",
      "2019/Florida    >>> 345 rows\n",
      "2020/Cincinnati >>> 366 rows\n",
      "2020/Florida    >>> 365 rows\n",
      "2021/Cincinnati >>> 365 rows\n",
      "2021/Florida    >>> 104 rows\n",
      "2022/Cincinnati >>> 365 rows\n",
      "2022/Florida    >>> 259 rows\n",
      "2023/Cincinnati >>> 365 rows\n",
      "2023/Florida    >>> 276 rows\n",
      "2024/Cincinnati >>> 301 rows\n",
      "2024/Florida    >>> 133 rows\n"
     ]
    }
   ],
   "source": [
    "# 2. display the count of each dataset\n",
    "for year in range(2015, 2025): # loop through years\n",
    "  for dataset in os.listdir(str(year)): # loop through files in each year dir\n",
    "    with open(str(year) + '/' + dataset, 'r') as file:\n",
    "      reader = csv.DictReader(file)\n",
    "      row_count = sum(1 for _ in reader)\n",
    "      if (dataset[:-4] == CINCINNATI):\n",
    "        print('{}/Cincinnati >>> {} rows'.format(year,row_count))\n",
    "      else:\n",
    "        print('{}/Florida    >>> {} rows'.format(year,row_count))"
   ]
  },
  {
   "cell_type": "code",
   "execution_count": 76,
   "metadata": {},
   "outputs": [
    {
     "name": "stdout",
     "output_type": "stream",
     "text": [
      "2015 Hottest Day >>>   91.9, 2015-06-12, CINCINNATI MUNICIPAL AIRPORT LUNKEN FIELD, OH US, 72429793812\n",
      "2016 Hottest Day >>>   93.9, 2016-07-24, CINCINNATI MUNICIPAL AIRPORT LUNKEN FIELD, OH US, 72429793812\n",
      "2017 Hottest Day >>> 9999.9, 2017-02-22, SEBASTIAN INLET STATE PARK, FL US, 99495199999\n",
      "2018 Hottest Day >>>   96.1, 2018-07-04, CINCINNATI MUNICIPAL AIRPORT LUNKEN FIELD, OH US, 72429793812\n",
      "2019 Hottest Day >>>   95.0, 2019-09-30, CINCINNATI MUNICIPAL AIRPORT LUNKEN FIELD, OH US, 72429793812\n",
      "2020 Hottest Day >>>   93.9, 2020-07-05, CINCINNATI MUNICIPAL AIRPORT LUNKEN FIELD, OH US, 72429793812\n",
      "2021 Hottest Day >>>   95.0, 2021-08-12, CINCINNATI MUNICIPAL AIRPORT LUNKEN FIELD, OH US, 72429793812\n",
      "2022 Hottest Day >>> 9999.9, 2022-12-23, CINCINNATI MUNICIPAL AIRPORT LUNKEN FIELD, OH US, 72429793812\n",
      "2023 Hottest Day >>>   96.1, 2023-08-23, CINCINNATI MUNICIPAL AIRPORT LUNKEN FIELD, OH US, 72429793812\n",
      "2024 Hottest Day >>>  100.9, 2024-08-30, CINCINNATI MUNICIPAL AIRPORT LUNKEN FIELD, OH US, 72429793812\n"
     ]
    }
   ],
   "source": [
    "# 3. find the hottest day for each year\n",
    "for year in range(2015, 2025):\n",
    "  maxT = ['', '', '', '-999']\n",
    "  for dataset in os.listdir(str(year)): \n",
    "    with open(str(year) + '/' + dataset, 'r') as file:\n",
    "      reader = csv.DictReader(file)\n",
    "      for i, row in enumerate(reader):\n",
    "        if (float(row[\"MAX\"]) > float(maxT[3])):\n",
    "          maxT[0] = row[\"STATION\"]\n",
    "          maxT[1] = row[\"NAME\"]\n",
    "          maxT[2] = row[\"DATE\"]\n",
    "          maxT[3] = row[\"MAX\"]\n",
    "  print('{} Hottest Day >>> {}, {}, {}, {}'.format(year, maxT[3], maxT[2], maxT[1], maxT[0]))"
   ]
  },
  {
   "cell_type": "code",
   "execution_count": 73,
   "metadata": {},
   "outputs": [
    {
     "name": "stdout",
     "output_type": "stream",
     "text": [
      "OVERALL MIN TEMP >>> 3.2, 2015-03-06, CINCINNATI MUNICIPAL AIRPORT LUNKEN FIELD, OH US, 72429793812\n"
     ]
    }
   ],
   "source": [
    "# 4. Find the coldest day for the month of March across all years\n",
    "minT = ['', '', '', '999.9']\n",
    "\n",
    "for year in range(2015, 2025):\n",
    "  for dataset in os.listdir(str(year)):\n",
    "    with open(str(year) + '/' + dataset, 'r') as file:\n",
    "      reader = csv.DictReader(file)\n",
    "      for row in reader:\n",
    "        if ((row[\"DATE\"][:-3] == \"{}-03\".format(year)) and \n",
    "            (float(row[\"MIN\"]) < float(minT[3]))):\n",
    "          minT[0] = row[\"STATION\"]\n",
    "          minT[1] = row[\"NAME\"]\n",
    "          minT[2] = row[\"DATE\"]\n",
    "          minT[3] = row[\"MIN\"]\n",
    "\n",
    "print('OVERALL MIN TEMP >>> {}, {}, {}, {}'.format(float(minT[3]), minT[2], minT[1], minT[0]))"
   ]
  },
  {
   "cell_type": "code",
   "execution_count": 78,
   "metadata": {},
   "outputs": [
    {
     "name": "stdout",
     "output_type": "stream",
     "text": [
      "Highest PRCP mean Cincinnati >>> 5.435647840531555, 2024, CINCINNATI MUNICIPAL AIRPORT LUNKEN FIELD, OH US, 72429793812\n",
      "Highest PRCP mean Florida    >>> 0.0, , , \n"
     ]
    }
   ],
   "source": [
    "# 5. Find the year with the most precipitation for Cincinnati and Florida\n",
    "cin, fla = ['', '', '', 0.0], ['', '', '', 0.0]\n",
    "\n",
    "for year in range(2015, 2025):\n",
    "  for dataset in os.listdir(str(year)):\n",
    "    with open(str(year) + '/' + dataset, 'r') as file:\n",
    "      reader = csv.DictReader(file)\n",
    "      prcp_sum, row_count = 0.0, 0.0\n",
    "      curr_station, curr_name = '', ''\n",
    "      for i, row in enumerate(reader):\n",
    "        if (i == 0):\n",
    "          curr_station = row[\"STATION\"]\n",
    "          curr_name = row[\"NAME\"]\n",
    "        prcp_sum += float(row[\"PRCP\"]) \n",
    "        row_count += 1.0\n",
    "      prcp_mean = prcp_sum / row_count\n",
    "      \n",
    "      if (dataset[:-4] == CINCINNATI):\n",
    "        if (prcp_mean > cin[3]):\n",
    "          cin[0] = curr_station\n",
    "          cin[1] = curr_name\n",
    "          cin[2] = year\n",
    "          cin[3] = prcp_mean\n",
    "      else:\n",
    "        if (prcp_mean > fla[3]):\n",
    "          fla[0] = curr_station\n",
    "          fla[1] = curr_name\n",
    "          fla[2] = year\n",
    "          fla[3] = prcp_mean\n",
    "\n",
    "print('Highest PRCP mean Cincinnati >>> {}, {}, {}, {}'.format(cin[3], cin[2], cin[1], cin[0]))\n",
    "print('Highest PRCP mean Florida    >>> {}, {}, {}, {}'.format(fla[3], fla[2], fla[1], fla[0]))"
   ]
  },
  {
   "cell_type": "code",
   "execution_count": 70,
   "metadata": {},
   "outputs": [
    {
     "name": "stdout",
     "output_type": "stream",
     "text": [
      "Missing GUST values Cincinnati 2024 >>> 39.53488372093023%\n",
      "Missing GUST values Florida 2024    >>> 100.0%\n"
     ]
    }
   ],
   "source": [
    "# 6. Count the percentage of missing values for wind gust for Cincinnati and Florida in the year 2024\n",
    "for dataset in os.listdir('2024'):\n",
    "  with open('2024/' + dataset, 'r') as file:\n",
    "    reader = csv.DictReader(file)\n",
    "    row_count, missing_count = 0, 0\n",
    "    for i, row in enumerate(reader):\n",
    "      row_count += 1\n",
    "      if (row[\"GUST\"] == \"999.9\"):\n",
    "        missing_count += 1\n",
    "    percent_missing = (float(missing_count) / float(row_count)) * 100\n",
    "    if (dataset[:-4] == CINCINNATI):\n",
    "      print('Missing GUST values Cincinnati 2024 >>> {}%'.format(percent_missing))\n",
    "    else:\n",
    "      print('Missing GUST values Florida 2024    >>> {}%'.format(percent_missing))"
   ]
  },
  {
   "cell_type": "code",
   "execution_count": 85,
   "metadata": {},
   "outputs": [
    {
     "name": "stdout",
     "output_type": "stream",
     "text": [
      "January\n",
      "     >>>>> mean: 37.94516129032258 || median: 37.7 || mode: 43.1 || stdev: 8.345810873712928\n",
      "February\n",
      "     >>>>> mean: 36.58965517241379 || median: 36.0 || mode: 30.8 || stdev: 7.901597705870549\n",
      "March\n",
      "     >>>>> mean: 49.07419354838709 || median: 47.8 || mode: 53.2 || stdev: 8.779406500135625\n",
      "April\n",
      "     >>>>> mean: 51.78 || median: 51.1 || mode: 46.8 || stdev: 7.31316243683854\n",
      "May\n",
      "     >>>>> mean: 60.89032258064516 || median: 63.7 || mode: 73.9 || stdev: 9.314768017820223\n",
      "June\n",
      "     >>>>> mean: 72.54666666666667 || median: 73.95 || mode: 74.2 || stdev: 4.89994604708744\n",
      "July\n",
      "     >>>>> mean: 77.6 || median: 77.9 || mode: 77.5 || stdev: 2.3379478180660915\n",
      "August\n",
      "     >>>>> mean: 73.34516129032258 || median: 73.7 || mode: 67.4 || stdev: 3.4878683757348994\n",
      "September\n",
      "     >>>>> mean: 66.1 || median: 66.15 || mode: 74.6 || stdev: 7.118262089331481\n",
      "October\n",
      "     >>>>> mean: 55.193548387096776 || median: 54.0 || mode: 56.9 || stdev: 6.728691575825172\n",
      "November\n",
      "     >>>>> mean: 48.00333333333333 || median: 47.7 || mode: 47.7 || stdev: 6.825938527529324\n",
      "December\n",
      "     >>>>> mean: 35.99354838709677 || median: 35.2 || mode: 32.1 || stdev: 6.6427873408618145\n"
     ]
    }
   ],
   "source": [
    "# 7. Find the mean, median, mode, and standard deviation of the temperature for Cincinnati \n",
    "#    in each month for the year 2020\n",
    "months = {\n",
    "  1: \"January\",\n",
    "  2: \"February\",\n",
    "  3: \"March\",\n",
    "  4: \"April\",\n",
    "  5: \"May\",\n",
    "  6: \"June\",\n",
    "  7: \"July\",\n",
    "  8: \"August\",\n",
    "  9: \"September\",\n",
    "  10: \"October\",\n",
    "  11: \"November\",\n",
    "  12: \"December\"\n",
    "}\n",
    "with open('2020/' + CINCINNATI + '.csv', 'r') as file:\n",
    "  reader = csv.DictReader(file)\n",
    "  all_temps = [[],[],[],[],[],[],[],[],[],[],[],[]]\n",
    "  for row in reader:\n",
    "    month = int(row[\"DATE\"][5:7])\n",
    "    all_temps[month - 1].append(float(row[\"TEMP\"]))\n",
    "for i, data in enumerate(all_temps):\n",
    "  mean = statistics.mean(all_temps[i])\n",
    "  med = statistics.median(all_temps[i])\n",
    "  mode = statistics.mode(all_temps[i])\n",
    "  stdev = statistics.stdev(all_temps[i])\n",
    "  print('{}\\n     >>>>> mean: {} || median: {} || mode: {} || stdev: {}'.format(months[i+1], mean, med, mode, stdev))"
   ]
  },
  {
   "cell_type": "code",
   "execution_count": 69,
   "metadata": {},
   "outputs": [
    {
     "name": "stdout",
     "output_type": "stream",
     "text": [
      "10 coldest wind chills in Cincinnati in 2017:\n",
      "2017-01-07 >>> -0.4140156367932235\n",
      "2017-12-31 >>> 2.0339767075993116\n",
      "2017-12-27 >>> 3.820645509123832\n",
      "2017-12-28 >>> 4.533355269061226\n",
      "2017-01-06 >>> 4.86893304165389\n",
      "2017-01-08 >>> 7.929748208036862\n",
      "2017-12-25 >>> 14.2851132182974\n",
      "2017-12-30 >>> 14.539211253038193\n",
      "2017-01-05 >>> 14.748861828163854\n",
      "2017-12-26 >>> 15.688977805634499\n"
     ]
    }
   ],
   "source": [
    "# 8. Find the top 10 days with the lowest Wind Chill for Cincinnati in 2017\n",
    "with open('2017/' + CINCINNATI + '.csv', 'r') as file:\n",
    "  reader = csv.DictReader(file)\n",
    "  WCs = []\n",
    "  for row in reader:\n",
    "    temp = float(row[\"TEMP\"])\n",
    "    windspeed = float(row[\"WDSP\"])\n",
    "    wc = 9999.9\n",
    "    if ((temp < 50.0) and (windspeed > 3.0)):\n",
    "      wc = 35.74 + 0.6215 * temp - 35.75 * (windspeed)**0.16 + 0.4275 * temp * (windspeed)**0.16\n",
    "    WCs.append((str(wc), row[\"DATE\"]))\n",
    "  data_frame = pd.read_csv('2017/' + CINCINNATI + '.csv')\n",
    "  data_frame[\"WC\"] = [wc for wc, _ in WCs]\n",
    "  data_frame.to_csv('2017/' + CINCINNATI + '.csv')\n",
    "  sorted_wc = sorted(WCs, key=lambda x: float(x[0]))\n",
    "\n",
    "  print('10 coldest wind chills in Cincinnati in 2017:')\n",
    "  for i in range(10):\n",
    "    print('{} >>> {}'.format(sorted_wc[i][1], sorted_wc[i][0]))"
   ]
  },
  {
   "cell_type": "code",
   "execution_count": 87,
   "metadata": {},
   "outputs": [
    {
     "name": "stdout",
     "output_type": "stream",
     "text": [
      "Florida days with extreme weather conditions >>> 0\n"
     ]
    }
   ],
   "source": [
    "# 9. Investigate how many days had extreme weather conditions for Florida using the \"FRSHTT\" column\n",
    "FRSHTT_count = 0\n",
    "for year in range(2015, 2025):\n",
    "  if (os.path.isfile(str(year) + '/' + str(FLORIDA) + '.csv')):\n",
    "    with open(str(year) + '/' + str(FLORIDA) + '.csv', 'r') as file:\n",
    "      reader = csv.DictReader(file)\n",
    "      for row in reader:\n",
    "        if (row[\"FRSHTT\"] != \"000000\"):\n",
    "          FRSHTT_count += 1\n",
    "\n",
    "print('Florida days with extreme weather conditions >>> {}'.format(FRSHTT_count))"
   ]
  }
 ],
 "metadata": {
  "kernelspec": {
   "display_name": "base",
   "language": "python",
   "name": "python3"
  },
  "language_info": {
   "codemirror_mode": {
    "name": "ipython",
    "version": 3
   },
   "file_extension": ".py",
   "mimetype": "text/x-python",
   "name": "python",
   "nbconvert_exporter": "python",
   "pygments_lexer": "ipython3",
   "version": "3.12.7"
  }
 },
 "nbformat": 4,
 "nbformat_minor": 2
}
