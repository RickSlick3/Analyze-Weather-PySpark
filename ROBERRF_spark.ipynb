{
 "cells": [
  {
   "cell_type": "code",
   "execution_count": 5,
   "metadata": {},
   "outputs": [],
   "source": [
    "# imports and global vars\n",
    "import csv\n",
    "import os\n",
    "\n",
    "CINCINNATI = '72429793812'\n",
    "FLORIDA = '99495199999'"
   ]
  },
  {
   "cell_type": "code",
   "execution_count": null,
   "metadata": {},
   "outputs": [
    {
     "name": "stdout",
     "output_type": "stream",
     "text": [
      "2015/Cincinnati - 365 rows\n",
      "2015/Florida:   - 355 rows\n",
      "2016/Cincinnati - 366 rows\n",
      "2017/Cincinnati - 365 rows\n",
      "2017/Florida:   - 283 rows\n",
      "2018/Cincinnati - 365 rows\n",
      "2018/Florida:   - 363 rows\n",
      "2019/Cincinnati - 365 rows\n",
      "2019/Florida:   - 345 rows\n",
      "2020/Cincinnati - 366 rows\n",
      "2020/Florida:   - 365 rows\n",
      "2021/Cincinnati - 365 rows\n",
      "2021/Florida:   - 104 rows\n",
      "2022/Cincinnati - 365 rows\n",
      "2022/Florida:   - 259 rows\n",
      "2023/Cincinnati - 365 rows\n",
      "2023/Florida:   - 276 rows\n",
      "2024/Cincinnati - 301 rows\n",
      "2024/Florida:   - 133 rows\n"
     ]
    }
   ],
   "source": [
    "# 2. display the count of each dataset\n",
    "for year in range(2015, 2025): # loop through years\n",
    "  for dataset in os.listdir(str(year)): # loop through files in each year dir\n",
    "    with open(str(year) + '/' + dataset, 'r') as file:\n",
    "      reader = csv.reader(file)\n",
    "      next(reader)\n",
    "      row_count = sum(1 for row in reader)\n",
    "      if (dataset[:-4] == CINCINNATI):\n",
    "        print('{}/Cincinnati - {} rows'.format(year,row_count))\n",
    "      else:\n",
    "        print('{}/Florida:   - {} rows'.format(year,row_count))"
   ]
  },
  {
   "cell_type": "code",
   "execution_count": null,
   "metadata": {},
   "outputs": [
    {
     "name": "stdout",
     "output_type": "stream",
     "text": [
      "2015 max temp info: 72429793812, CINCINNATI MUNICIPAL AIRPORT LUNKEN FIELD, OH US, 2015-06-12,   91.9\n",
      "2016 max temp info: 72429793812, CINCINNATI MUNICIPAL AIRPORT LUNKEN FIELD, OH US, 2016-07-24,   93.9\n",
      "2017 max temp info: 99495199999, SEBASTIAN INLET STATE PARK, FL US, 2017-02-22, 9999.9\n",
      "2018 max temp info: 72429793812, CINCINNATI MUNICIPAL AIRPORT LUNKEN FIELD, OH US, 2018-07-04,   96.1\n",
      "2019 max temp info: 72429793812, CINCINNATI MUNICIPAL AIRPORT LUNKEN FIELD, OH US, 2019-09-30,   95.0\n",
      "2020 max temp info: 72429793812, CINCINNATI MUNICIPAL AIRPORT LUNKEN FIELD, OH US, 2020-07-05,   93.9\n",
      "2021 max temp info: 72429793812, CINCINNATI MUNICIPAL AIRPORT LUNKEN FIELD, OH US, 2021-08-12,   95.0\n",
      "2022 max temp info: 72429793812, CINCINNATI MUNICIPAL AIRPORT LUNKEN FIELD, OH US, 2022-12-23, 9999.9\n",
      "2023 max temp info: 72429793812, CINCINNATI MUNICIPAL AIRPORT LUNKEN FIELD, OH US, 2023-08-23,   96.1\n",
      "2024 max temp info: 72429793812, CINCINNATI MUNICIPAL AIRPORT LUNKEN FIELD, OH US, 2024-08-30,  100.9\n"
     ]
    }
   ],
   "source": [
    "# 3. find the hottest day for each year\n",
    "for year in range(2015, 2025): # loop through years\n",
    "  maxT = ['', '', '', '-999']\n",
    "  for dataset in os.listdir(str(year)): # loop through files in each year dir\n",
    "    with open(str(year) + '/' + dataset, 'r') as file:\n",
    "      reader = csv.DictReader(file)\n",
    "      for i, row in enumerate(reader):\n",
    "        if (float(row[\"MAX\"]) > float(maxT[3])):\n",
    "          maxT[0] = row[\"STATION\"]\n",
    "          maxT[1] = row[\"NAME\"]\n",
    "          maxT[2] = row[\"DATE\"]\n",
    "          maxT[3] = row[\"MAX\"]\n",
    "  print('{} MAX TEMP: {}, {}, {}, {}'.format(year, maxT[0], maxT[1], maxT[2], maxT[3]))"
   ]
  }
 ],
 "metadata": {
  "kernelspec": {
   "display_name": "base",
   "language": "python",
   "name": "python3"
  },
  "language_info": {
   "codemirror_mode": {
    "name": "ipython",
    "version": 3
   },
   "file_extension": ".py",
   "mimetype": "text/x-python",
   "name": "python",
   "nbconvert_exporter": "python",
   "pygments_lexer": "ipython3",
   "version": "3.12.7"
  }
 },
 "nbformat": 4,
 "nbformat_minor": 2
}
