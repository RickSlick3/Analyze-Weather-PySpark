{
 "cells": [
  {
   "cell_type": "code",
   "execution_count": null,
   "metadata": {},
   "outputs": [],
   "source": [
    "# imports and global vars\n",
    "import csv\n",
    "import os\n",
    "\n",
    "CINCINNATI = '72429793812'\n",
    "FLORIDA = '99495199999'\n",
    "MISSING = [99.99, 999.9, 9999.9]"
   ]
  },
  {
   "cell_type": "code",
   "execution_count": null,
   "metadata": {},
   "outputs": [],
   "source": [
    "# Run to remove missing or invalid readings from the dataset in your analysis\n",
    "for year in range(2015, 2025):\n",
    "    for dataset in os.listdir(str(year)):\n",
    "      with open(str(year) + '/' + dataset, \"r\") as read_file:\n",
    "        rows = list(csv.reader(read_file))\n",
    "      for r in range(1, len(rows)):\n",
    "        rows[r] = [\n",
    "          \"MISSING\" if data in MISSING else data\n",
    "          for data in rows[r]\n",
    "        ]\n",
    "      with open(str(year) + '/' + dataset, \"w\", newline=\"\") as write_file:\n",
    "        writer = csv.writer(write_file)\n",
    "        writer.writerows(rows)"
   ]
  },
  {
   "cell_type": "code",
   "execution_count": null,
   "metadata": {},
   "outputs": [
    {
     "name": "stdout",
     "output_type": "stream",
     "text": [
      "2015/Cincinnati - 365 rows\n",
      "2015/Florida:   - 355 rows\n",
      "2016/Cincinnati - 366 rows\n",
      "2017/Cincinnati - 365 rows\n",
      "2017/Florida:   - 283 rows\n",
      "2018/Cincinnati - 365 rows\n",
      "2018/Florida:   - 363 rows\n",
      "2019/Cincinnati - 365 rows\n",
      "2019/Florida:   - 345 rows\n",
      "2020/Cincinnati - 366 rows\n",
      "2020/Florida:   - 365 rows\n",
      "2021/Cincinnati - 365 rows\n",
      "2021/Florida:   - 104 rows\n",
      "2022/Cincinnati - 365 rows\n",
      "2022/Florida:   - 259 rows\n",
      "2023/Cincinnati - 365 rows\n",
      "2023/Florida:   - 276 rows\n",
      "2024/Cincinnati - 301 rows\n",
      "2024/Florida:   - 133 rows\n"
     ]
    }
   ],
   "source": [
    "# 2. display the count of each dataset\n",
    "for year in range(2015, 2025): # loop through years\n",
    "  for dataset in os.listdir(str(year)): # loop through files in each year dir\n",
    "    with open(str(year) + '/' + dataset, 'r') as file:\n",
    "      reader = csv.reader(file)\n",
    "      next(reader)\n",
    "      row_count = sum(1 for row in reader)\n",
    "      if (dataset[:-4] == CINCINNATI):\n",
    "        print('{}/Cincinnati - {} rows'.format(year,row_count))\n",
    "      else:\n",
    "        print('{}/Florida:   - {} rows'.format(year,row_count))"
   ]
  },
  {
   "cell_type": "code",
   "execution_count": null,
   "metadata": {},
   "outputs": [
    {
     "name": "stdout",
     "output_type": "stream",
     "text": [
      "2015 Hottest Day:   91.9, 2015-06-12, CINCINNATI MUNICIPAL AIRPORT LUNKEN FIELD, OH US, 72429793812\n",
      "2016 Hottest Day:   93.9, 2016-07-24, CINCINNATI MUNICIPAL AIRPORT LUNKEN FIELD, OH US, 72429793812\n",
      "2017 Hottest Day: 9999.9, 2017-02-22, SEBASTIAN INLET STATE PARK, FL US, 99495199999\n",
      "2018 Hottest Day:   96.1, 2018-07-04, CINCINNATI MUNICIPAL AIRPORT LUNKEN FIELD, OH US, 72429793812\n",
      "2019 Hottest Day:   95.0, 2019-09-30, CINCINNATI MUNICIPAL AIRPORT LUNKEN FIELD, OH US, 72429793812\n",
      "2020 Hottest Day:   93.9, 2020-07-05, CINCINNATI MUNICIPAL AIRPORT LUNKEN FIELD, OH US, 72429793812\n",
      "2021 Hottest Day:   95.0, 2021-08-12, CINCINNATI MUNICIPAL AIRPORT LUNKEN FIELD, OH US, 72429793812\n",
      "2022 Hottest Day: 9999.9, 2022-12-23, CINCINNATI MUNICIPAL AIRPORT LUNKEN FIELD, OH US, 72429793812\n",
      "2023 Hottest Day:   96.1, 2023-08-23, CINCINNATI MUNICIPAL AIRPORT LUNKEN FIELD, OH US, 72429793812\n",
      "2024 Hottest Day:  100.9, 2024-08-30, CINCINNATI MUNICIPAL AIRPORT LUNKEN FIELD, OH US, 72429793812\n"
     ]
    }
   ],
   "source": [
    "# 3. find the hottest day for each year\n",
    "for year in range(2015, 2025):\n",
    "  maxT = ['', '', '', '-999']\n",
    "  for dataset in os.listdir(str(year)): \n",
    "    with open(str(year) + '/' + dataset, 'r') as file:\n",
    "      reader = csv.DictReader(file)\n",
    "      for i, row in enumerate(reader):\n",
    "        if (float(row[\"MAX\"]) > float(maxT[3])):\n",
    "          maxT[0] = row[\"STATION\"]\n",
    "          maxT[1] = row[\"NAME\"]\n",
    "          maxT[2] = row[\"DATE\"]\n",
    "          maxT[3] = row[\"MAX\"]\n",
    "  print('{} Hottest Day: {}, {}, {}, {}'.format(year, maxT[3], maxT[2], maxT[1], maxT[0]))"
   ]
  },
  {
   "cell_type": "code",
   "execution_count": null,
   "metadata": {},
   "outputs": [
    {
     "name": "stdout",
     "output_type": "stream",
     "text": [
      "OVERALL MIN TEMP:    3.2, 2015-03-06, CINCINNATI MUNICIPAL AIRPORT LUNKEN FIELD, OH US, 72429793812\n"
     ]
    }
   ],
   "source": [
    "# 4. Find the coldest day for the month of March across all years\n",
    "minT = ['', '', '', '999.9']\n",
    "\n",
    "for year in range(2015, 2025):\n",
    "  for dataset in os.listdir(str(year)):\n",
    "    with open(str(year) + '/' + dataset, 'r') as file:\n",
    "      reader = csv.DictReader(file)\n",
    "      for row in reader:\n",
    "        if ((row[\"DATE\"][:-3] == \"{}-03\".format(year)) and \n",
    "            (float(row[\"MIN\"]) < float(minT[3]))):\n",
    "          minT[0] = row[\"STATION\"]\n",
    "          minT[1] = row[\"NAME\"]\n",
    "          minT[2] = row[\"DATE\"]\n",
    "          minT[3] = row[\"MIN\"]\n",
    "\n",
    "print('OVERALL MIN TEMP: {}, {}, {}, {}'.format(minT[3], minT[2], minT[1], minT[0]))"
   ]
  },
  {
   "cell_type": "code",
   "execution_count": null,
   "metadata": {},
   "outputs": [
    {
     "name": "stdout",
     "output_type": "stream",
     "text": [
      "Highest PRCP mean Cincinnati: 5.12046666666666, 2024, CINCINNATI MUNICIPAL AIRPORT LUNKEN FIELD, OH US, 72429793812\n",
      "Highest PRCP mean Florida: 0.0, , , \n"
     ]
    }
   ],
   "source": [
    "# 5. Find the year with the most precipitation for Cincinnati and Florida\n",
    "cin, fla = ['', '', '', 0.0], ['', '', '', 0.0]\n",
    "\n",
    "for year in range(2015, 2025):\n",
    "  for dataset in os.listdir(str(year)):\n",
    "    with open(str(year) + '/' + dataset, 'r') as file:\n",
    "      reader = csv.DictReader(file)\n",
    "      next(reader)\n",
    "      prcp_sum, row_count = 0.0, 0.0\n",
    "      curr_station, curr_name = '', ''\n",
    "      for i, row in enumerate(reader):\n",
    "        if (i == 0):\n",
    "          curr_station = row[\"STATION\"]\n",
    "          curr_name = row[\"NAME\"]\n",
    "        prcp_sum += float(row[\"PRCP\"]) \n",
    "        row_count += 1.0\n",
    "      prcp_mean = prcp_sum / row_count\n",
    "      \n",
    "      if (dataset[:-4] == CINCINNATI):\n",
    "        if (prcp_mean > cin[3]):\n",
    "          cin[0] = curr_station\n",
    "          cin[1] = curr_name\n",
    "          cin[2] = year\n",
    "          cin[3] = prcp_mean\n",
    "      else:\n",
    "        if (prcp_mean > fla[3]):\n",
    "          fla[0] = curr_station\n",
    "          fla[1] = curr_name\n",
    "          fla[2] = year\n",
    "          fla[3] = prcp_mean\n",
    "\n",
    "print('Highest PRCP mean Cincinnati: {}, {}, {}, {}'.format(cin[3], cin[2], cin[1], cin[0]))\n",
    "print('Highest PRCP mean Florida: {}, {}, {}, {}'.format(fla[3], fla[2], fla[1], fla[0]))"
   ]
  }
 ],
 "metadata": {
  "kernelspec": {
   "display_name": "base",
   "language": "python",
   "name": "python3"
  },
  "language_info": {
   "codemirror_mode": {
    "name": "ipython",
    "version": 3
   },
   "file_extension": ".py",
   "mimetype": "text/x-python",
   "name": "python",
   "nbconvert_exporter": "python",
   "pygments_lexer": "ipython3",
   "version": "3.12.7"
  }
 },
 "nbformat": 4,
 "nbformat_minor": 2
}
